{
  "nbformat": 4,
  "nbformat_minor": 0,
  "metadata": {
    "kernelspec": {
      "display_name": "Python 3",
      "language": "python",
      "name": "python3"
    },
    "language_info": {
      "codemirror_mode": {
        "name": "ipython",
        "version": 3
      },
      "file_extension": ".py",
      "mimetype": "text/x-python",
      "name": "python",
      "nbconvert_exporter": "python",
      "pygments_lexer": "ipython3",
      "version": "3.7.3"
    },
    "colab": {
      "name": "REGRESSION_2.ipynb",
      "provenance": [],
      "collapsed_sections": []
    }
  },
  "cells": [
    {
      "cell_type": "markdown",
      "metadata": {
        "id": "9hKC0Kh9xvv3",
        "colab_type": "text"
      },
      "source": [
        "Para esta sección aprovecharemos el comportamiento general de la serie para ver si con la ayuda de un análisis general de los datos, podemos conseguir un modelo de regresión lineal que sea capaz de aprovechar datos demográficos para predecir el número de defunciones acreditadas como suicidios."
      ]
    },
    {
      "cell_type": "code",
      "metadata": {
        "id": "iAZur6dZg43N",
        "colab_type": "code",
        "colab": {}
      },
      "source": [
        "import pandas as pd\n",
        "import matplotlib.pyplot as plt\n",
        "import numpy as np"
      ],
      "execution_count": 0,
      "outputs": []
    },
    {
      "cell_type": "code",
      "metadata": {
        "id": "8G4mGOZVg43U",
        "colab_type": "code",
        "colab": {}
      },
      "source": [
        "from sklearn import datasets, linear_model\n",
        "from sklearn.model_selection import train_test_split\n",
        "from sklearn.preprocessing import MinMaxScaler\n",
        "from sklearn.metrics import mean_squared_error, accuracy_score"
      ],
      "execution_count": 0,
      "outputs": []
    },
    {
      "cell_type": "code",
      "metadata": {
        "id": "zWwQFRq2g43Y",
        "colab_type": "code",
        "outputId": "85bf232c-9023-4195-9820-083d92910591",
        "colab": {
          "base_uri": "https://localhost:8080/",
          "height": 204
        }
      },
      "source": [
        "path = \"https://docs.google.com/spreadsheets/d/1jTcBnisbtv5wGpu2gYeBw7NfaKjhJZ0BppnUEQHWmTo/export?format=csv\"\n",
        "df = pd.read_csv( path, decimal='.',error_bad_lines=False)\n",
        "df.head()"
      ],
      "execution_count": 3,
      "outputs": [
        {
          "output_type": "execute_result",
          "data": {
            "text/html": [
              "<div>\n",
              "<style scoped>\n",
              "    .dataframe tbody tr th:only-of-type {\n",
              "        vertical-align: middle;\n",
              "    }\n",
              "\n",
              "    .dataframe tbody tr th {\n",
              "        vertical-align: top;\n",
              "    }\n",
              "\n",
              "    .dataframe thead th {\n",
              "        text-align: right;\n",
              "    }\n",
              "</style>\n",
              "<table border=\"1\" class=\"dataframe\">\n",
              "  <thead>\n",
              "    <tr style=\"text-align: right;\">\n",
              "      <th></th>\n",
              "      <th>country</th>\n",
              "      <th>year</th>\n",
              "      <th>sex</th>\n",
              "      <th>age</th>\n",
              "      <th>suicides_no</th>\n",
              "      <th>population</th>\n",
              "      <th>suicides/100k pop</th>\n",
              "      <th>gdpforyear</th>\n",
              "      <th>gdppercapita</th>\n",
              "      <th>generation</th>\n",
              "    </tr>\n",
              "  </thead>\n",
              "  <tbody>\n",
              "    <tr>\n",
              "      <th>0</th>\n",
              "      <td>0</td>\n",
              "      <td>1987</td>\n",
              "      <td>1</td>\n",
              "      <td>0</td>\n",
              "      <td>21</td>\n",
              "      <td>312900</td>\n",
              "      <td>6.71</td>\n",
              "      <td>2156624900</td>\n",
              "      <td>796</td>\n",
              "      <td>2</td>\n",
              "    </tr>\n",
              "    <tr>\n",
              "      <th>1</th>\n",
              "      <td>0</td>\n",
              "      <td>1987</td>\n",
              "      <td>1</td>\n",
              "      <td>2</td>\n",
              "      <td>16</td>\n",
              "      <td>308000</td>\n",
              "      <td>5.19</td>\n",
              "      <td>2156624900</td>\n",
              "      <td>796</td>\n",
              "      <td>5</td>\n",
              "    </tr>\n",
              "    <tr>\n",
              "      <th>2</th>\n",
              "      <td>0</td>\n",
              "      <td>1987</td>\n",
              "      <td>0</td>\n",
              "      <td>0</td>\n",
              "      <td>14</td>\n",
              "      <td>289700</td>\n",
              "      <td>4.83</td>\n",
              "      <td>2156624900</td>\n",
              "      <td>796</td>\n",
              "      <td>2</td>\n",
              "    </tr>\n",
              "    <tr>\n",
              "      <th>3</th>\n",
              "      <td>0</td>\n",
              "      <td>1987</td>\n",
              "      <td>1</td>\n",
              "      <td>5</td>\n",
              "      <td>1</td>\n",
              "      <td>21800</td>\n",
              "      <td>4.59</td>\n",
              "      <td>2156624900</td>\n",
              "      <td>796</td>\n",
              "      <td>1</td>\n",
              "    </tr>\n",
              "    <tr>\n",
              "      <th>4</th>\n",
              "      <td>0</td>\n",
              "      <td>1987</td>\n",
              "      <td>1</td>\n",
              "      <td>1</td>\n",
              "      <td>9</td>\n",
              "      <td>274300</td>\n",
              "      <td>3.28</td>\n",
              "      <td>2156624900</td>\n",
              "      <td>796</td>\n",
              "      <td>0</td>\n",
              "    </tr>\n",
              "  </tbody>\n",
              "</table>\n",
              "</div>"
            ],
            "text/plain": [
              "   country  year  sex  ...  gdpforyear  gdppercapita  generation\n",
              "0        0  1987    1  ...  2156624900           796           2\n",
              "1        0  1987    1  ...  2156624900           796           5\n",
              "2        0  1987    0  ...  2156624900           796           2\n",
              "3        0  1987    1  ...  2156624900           796           1\n",
              "4        0  1987    1  ...  2156624900           796           0\n",
              "\n",
              "[5 rows x 10 columns]"
            ]
          },
          "metadata": {
            "tags": []
          },
          "execution_count": 3
        }
      ]
    },
    {
      "cell_type": "markdown",
      "metadata": {
        "id": "ncsGEadO7vg2",
        "colab_type": "text"
      },
      "source": [
        "Nuevo tratamiento\n"
      ]
    },
    {
      "cell_type": "markdown",
      "metadata": {
        "id": "4XFklbOjYmyw",
        "colab_type": "text"
      },
      "source": [
        "# Modelo individual"
      ]
    },
    {
      "cell_type": "markdown",
      "metadata": {
        "id": "J8BmUzpPyvTm",
        "colab_type": "text"
      },
      "source": [
        "La variable objetivo es el número de suicidios, y en este primer apartado revisaremos como se comportaría un modelo tomando únicamente en cuenta a un estado de toda nuestra base de datos."
      ]
    },
    {
      "cell_type": "code",
      "metadata": {
        "id": "Hr_Fg_iB7u_4",
        "colab_type": "code",
        "colab": {}
      },
      "source": [
        "df_0 = df[df.country == 0].copy()"
      ],
      "execution_count": 0,
      "outputs": []
    },
    {
      "cell_type": "markdown",
      "metadata": {
        "id": "TZhQUHKVzNaD",
        "colab_type": "text"
      },
      "source": [
        "Después de seleccionar el estado, trabajaremos con los datos agrupados por año, para darnos una idea de cómo es que a través del tiempo con las distintas variables, aumento o decreció el número de suicidios."
      ]
    },
    {
      "cell_type": "code",
      "metadata": {
        "id": "Y7SwkSDQIZcc",
        "colab_type": "code",
        "colab": {}
      },
      "source": [
        "df_0_g = df_0.groupby(['year']).mean()"
      ],
      "execution_count": 0,
      "outputs": []
    },
    {
      "cell_type": "code",
      "metadata": {
        "id": "kvD-DOQDXI7k",
        "colab_type": "code",
        "outputId": "c8ce85af-ced8-4aea-b19a-631ecf5a3301",
        "colab": {
          "base_uri": "https://localhost:8080/",
          "height": 282
        }
      },
      "source": [
        "plt.plot( df_0_g['suicides_no'] )"
      ],
      "execution_count": 6,
      "outputs": [
        {
          "output_type": "execute_result",
          "data": {
            "text/plain": [
              "[<matplotlib.lines.Line2D at 0x7f585c5b86a0>]"
            ]
          },
          "metadata": {
            "tags": []
          },
          "execution_count": 6
        },
        {
          "output_type": "display_data",
          "data": {
            "image/png": "[encoded data removed]",
            "text/plain": [
              "<Figure size 432x288 with 1 Axes>"
            ]
          },
          "metadata": {
            "tags": [],
            "needs_background": "light"
          }
        }
      ]
    },
    {
      "cell_type": "markdown",
      "metadata": {
        "id": "xDRNrEtRzk9d",
        "colab_type": "text"
      },
      "source": [
        "Aquí decidimos no tomar en cuenta ciertas variables, ya que en general al tratar con una agrupación por medias no hay diferencia en estos datos, esto referente al sexo y a la edad, que, aunque en otros contextos relacionados con el tema resultan bastante significativos. Para este cálculo en particular solo reflejan 0.5 en el sexo al hacer referencia a hombres y mujeres en conjunto y en edades como el promedio de las que nos muestran los datos, datos que ya de por si toman en cuenta las mismas edades para todos los estados por lo que simplemente son las mismas medias."
      ]
    },
    {
      "cell_type": "markdown",
      "metadata": {
        "id": "VOHS7iu20WLj",
        "colab_type": "text"
      },
      "source": [
        "Si estuviéramos trabajando con una base más extensa que nos diera la densidad de población de las distintas edades, podríamos aprovecharla, pero en este caso solo generaría ruido en el modelo."
      ]
    },
    {
      "cell_type": "code",
      "metadata": {
        "id": "Mtv6S6vwg43k",
        "colab_type": "code",
        "colab": {}
      },
      "source": [
        "#X = df[important.feature]\n",
        "X = df_0_g.drop(['suicides_no','country','sex','age'], axis=1)\n",
        "y = df_0_g.suicides_no"
      ],
      "execution_count": 0,
      "outputs": []
    },
    {
      "cell_type": "markdown",
      "metadata": {
        "id": "XYX_RZAn0yXL",
        "colab_type": "text"
      },
      "source": [
        "Escogimos una división 80:20 de los datos para entrenar el modelo."
      ]
    },
    {
      "cell_type": "code",
      "metadata": {
        "id": "7V7Egrm3g43n",
        "colab_type": "code",
        "colab": {}
      },
      "source": [
        "X_train, X_test, y_train, y_test = train_test_split(X, y, test_size = 0.8, random_state = 42)"
      ],
      "execution_count": 0,
      "outputs": []
    },
    {
      "cell_type": "markdown",
      "metadata": {
        "id": "Mi19_U2a08GG",
        "colab_type": "text"
      },
      "source": [
        "Y lo calculamos gracias a sklearning."
      ]
    },
    {
      "cell_type": "code",
      "metadata": {
        "id": "_8tzmY7sg43s",
        "colab_type": "code",
        "outputId": "3e3fc396-7d85-4329-cc3c-c9bbc50998cc",
        "colab": {
          "base_uri": "https://localhost:8080/",
          "height": 34
        }
      },
      "source": [
        "model_01 = linear_model.LinearRegression(normalize=True)\n",
        "model_01.fit(X_train.astype(\"int64\").values, y_train.astype(\"int64\"))"
      ],
      "execution_count": 9,
      "outputs": [
        {
          "output_type": "execute_result",
          "data": {
            "text/plain": [
              "LinearRegression(copy_X=True, fit_intercept=True, n_jobs=None, normalize=True)"
            ]
          },
          "metadata": {
            "tags": []
          },
          "execution_count": 9
        }
      ]
    },
    {
      "cell_type": "markdown",
      "metadata": {
        "id": "k0FH3typ1BYZ",
        "colab_type": "text"
      },
      "source": [
        "Además de que hacemos la predicción."
      ]
    },
    {
      "cell_type": "code",
      "metadata": {
        "id": "heywcpIZg432",
        "colab_type": "code",
        "colab": {}
      },
      "source": [
        "y_pred = model_01.predict(X_test)"
      ],
      "execution_count": 0,
      "outputs": []
    },
    {
      "cell_type": "markdown",
      "metadata": {
        "id": "dMyBEU2Z3mIe",
        "colab_type": "text"
      },
      "source": [
        "Si hacemos por facilidad una comparación de las gráficas resultantes pareciera ser una buena predicción, pero para constatar este resultado nos fijamos en la comparación de los datos y el MSE."
      ]
    },
    {
      "cell_type": "code",
      "metadata": {
        "id": "2Nd-4QOT2vtR",
        "colab_type": "code",
        "colab": {
          "base_uri": "https://localhost:8080/",
          "height": 265
        },
        "outputId": "978e3ad5-bff1-40d5-86ca-6c97190891e8"
      },
      "source": [
        "A = y_test.to_numpy()\n",
        "C = y_pred\n",
        "l1, = plt.plot(A, 'b')\n",
        "l3, = plt.plot(C, 'r')\n",
        "plt.legend(['A', 'C'], loc='upper left')\n",
        "plt.show()"
      ],
      "execution_count": 11,
      "outputs": [
        {
          "output_type": "display_data",
          "data": {
            "image/png": "[encoded data removed]",
            "text/plain": [
              "<Figure size 432x288 with 1 Axes>"
            ]
          },
          "metadata": {
            "tags": [],
            "needs_background": "light"
          }
        }
      ]
    },
    {
      "cell_type": "code",
      "metadata": {
        "id": "GKDC2-3Cg434",
        "colab_type": "code",
        "outputId": "a74852f3-5cf4-4d09-a428-377e2e40459e",
        "colab": {
          "base_uri": "https://localhost:8080/",
          "height": 204
        }
      },
      "source": [
        "compare = pd.DataFrame({'Actual': y_test.array.to_numpy().flatten(), 'Predicted': y_pred.flatten()})\n",
        "compare.head()"
      ],
      "execution_count": 12,
      "outputs": [
        {
          "output_type": "execute_result",
          "data": {
            "text/html": [
              "<div>\n",
              "<style scoped>\n",
              "    .dataframe tbody tr th:only-of-type {\n",
              "        vertical-align: middle;\n",
              "    }\n",
              "\n",
              "    .dataframe tbody tr th {\n",
              "        vertical-align: top;\n",
              "    }\n",
              "\n",
              "    .dataframe thead th {\n",
              "        text-align: right;\n",
              "    }\n",
              "</style>\n",
              "<table border=\"1\" class=\"dataframe\">\n",
              "  <thead>\n",
              "    <tr style=\"text-align: right;\">\n",
              "      <th></th>\n",
              "      <th>Actual</th>\n",
              "      <th>Predicted</th>\n",
              "    </tr>\n",
              "  </thead>\n",
              "  <tbody>\n",
              "    <tr>\n",
              "      <th>0</th>\n",
              "      <td>6.083333</td>\n",
              "      <td>5.610257</td>\n",
              "    </tr>\n",
              "    <tr>\n",
              "      <th>1</th>\n",
              "      <td>11.083333</td>\n",
              "      <td>11.944406</td>\n",
              "    </tr>\n",
              "    <tr>\n",
              "      <th>2</th>\n",
              "      <td>14.166667</td>\n",
              "      <td>13.330239</td>\n",
              "    </tr>\n",
              "    <tr>\n",
              "      <th>3</th>\n",
              "      <td>5.250000</td>\n",
              "      <td>5.863611</td>\n",
              "    </tr>\n",
              "    <tr>\n",
              "      <th>4</th>\n",
              "      <td>12.166667</td>\n",
              "      <td>13.146942</td>\n",
              "    </tr>\n",
              "  </tbody>\n",
              "</table>\n",
              "</div>"
            ],
            "text/plain": [
              "      Actual  Predicted\n",
              "0   6.083333   5.610257\n",
              "1  11.083333  11.944406\n",
              "2  14.166667  13.330239\n",
              "3   5.250000   5.863611\n",
              "4  12.166667  13.146942"
            ]
          },
          "metadata": {
            "tags": []
          },
          "execution_count": 12
        }
      ]
    },
    {
      "cell_type": "code",
      "metadata": {
        "id": "sRq9GPUC3238",
        "colab_type": "code",
        "colab": {
          "base_uri": "https://localhost:8080/",
          "height": 34
        },
        "outputId": "f883d716-81b1-471c-e576-f8f521f03aae"
      },
      "source": [
        "mean_squared_error(y_test.array.to_numpy().flatten(),y_pred.flatten())"
      ],
      "execution_count": 13,
      "outputs": [
        {
          "output_type": "execute_result",
          "data": {
            "text/plain": [
              "4.455600481944405"
            ]
          },
          "metadata": {
            "tags": []
          },
          "execution_count": 13
        }
      ]
    },
    {
      "cell_type": "markdown",
      "metadata": {
        "id": "fVrgjN9T5emH",
        "colab_type": "text"
      },
      "source": [
        "Por lo que en general podemos ver que se trata de un buen modelo, para su país en particular aunque no sabemos si este modelo será aplicable en general."
      ]
    },
    {
      "cell_type": "markdown",
      "metadata": {
        "id": "jIUpzO9aYdr5",
        "colab_type": "text"
      },
      "source": [
        "# Modelo global"
      ]
    },
    {
      "cell_type": "markdown",
      "metadata": {
        "id": "dLVkaWTA7E8M",
        "colab_type": "text"
      },
      "source": [
        "Esta ya es una aproximación en general donde tomamos en cuenta el promedio de los datos para poder hacer el modelo."
      ]
    },
    {
      "cell_type": "code",
      "metadata": {
        "id": "bXHEqcRVg439",
        "colab_type": "code",
        "colab": {}
      },
      "source": [
        "df_g = df.groupby(['year']).mean()"
      ],
      "execution_count": 0,
      "outputs": []
    },
    {
      "cell_type": "code",
      "metadata": {
        "id": "vGHNZyM5g43_",
        "colab_type": "code",
        "outputId": "c9a39f4f-6549-4214-eaf7-8b4b8935823f",
        "colab": {
          "base_uri": "https://localhost:8080/",
          "height": 235
        }
      },
      "source": [
        "df_g.head()"
      ],
      "execution_count": 15,
      "outputs": [
        {
          "output_type": "execute_result",
          "data": {
            "text/html": [
              "<div>\n",
              "<style scoped>\n",
              "    .dataframe tbody tr th:only-of-type {\n",
              "        vertical-align: middle;\n",
              "    }\n",
              "\n",
              "    .dataframe tbody tr th {\n",
              "        vertical-align: top;\n",
              "    }\n",
              "\n",
              "    .dataframe thead th {\n",
              "        text-align: right;\n",
              "    }\n",
              "</style>\n",
              "<table border=\"1\" class=\"dataframe\">\n",
              "  <thead>\n",
              "    <tr style=\"text-align: right;\">\n",
              "      <th></th>\n",
              "      <th>country</th>\n",
              "      <th>sex</th>\n",
              "      <th>age</th>\n",
              "      <th>suicides_no</th>\n",
              "      <th>population</th>\n",
              "      <th>suicides/100k pop</th>\n",
              "      <th>gdpforyear</th>\n",
              "      <th>gdppercapita</th>\n",
              "      <th>generation</th>\n",
              "    </tr>\n",
              "    <tr>\n",
              "      <th>year</th>\n",
              "      <th></th>\n",
              "      <th></th>\n",
              "      <th></th>\n",
              "      <th></th>\n",
              "      <th></th>\n",
              "      <th></th>\n",
              "      <th></th>\n",
              "      <th></th>\n",
              "      <th></th>\n",
              "    </tr>\n",
              "  </thead>\n",
              "  <tbody>\n",
              "    <tr>\n",
              "      <th>1985</th>\n",
              "      <td>48.041667</td>\n",
              "      <td>0.5</td>\n",
              "      <td>2.5</td>\n",
              "      <td>201.498264</td>\n",
              "      <td>1.751042e+06</td>\n",
              "      <td>11.826198</td>\n",
              "      <td>1.926471e+11</td>\n",
              "      <td>6091.229167</td>\n",
              "      <td>1.833333</td>\n",
              "    </tr>\n",
              "    <tr>\n",
              "      <th>1986</th>\n",
              "      <td>50.354167</td>\n",
              "      <td>0.5</td>\n",
              "      <td>2.5</td>\n",
              "      <td>209.496528</td>\n",
              "      <td>1.788038e+06</td>\n",
              "      <td>11.423333</td>\n",
              "      <td>2.302251e+11</td>\n",
              "      <td>7126.104167</td>\n",
              "      <td>1.833333</td>\n",
              "    </tr>\n",
              "    <tr>\n",
              "      <th>1987</th>\n",
              "      <td>49.203704</td>\n",
              "      <td>0.5</td>\n",
              "      <td>2.5</td>\n",
              "      <td>195.743827</td>\n",
              "      <td>1.689861e+06</td>\n",
              "      <td>11.644213</td>\n",
              "      <td>2.403856e+11</td>\n",
              "      <td>8712.592593</td>\n",
              "      <td>1.833333</td>\n",
              "    </tr>\n",
              "    <tr>\n",
              "      <th>1988</th>\n",
              "      <td>47.877551</td>\n",
              "      <td>0.5</td>\n",
              "      <td>2.5</td>\n",
              "      <td>205.826531</td>\n",
              "      <td>1.792678e+06</td>\n",
              "      <td>12.709405</td>\n",
              "      <td>2.985675e+11</td>\n",
              "      <td>9983.857143</td>\n",
              "      <td>1.833333</td>\n",
              "    </tr>\n",
              "    <tr>\n",
              "      <th>1989</th>\n",
              "      <td>49.346154</td>\n",
              "      <td>0.5</td>\n",
              "      <td>2.5</td>\n",
              "      <td>256.801282</td>\n",
              "      <td>1.963965e+06</td>\n",
              "      <td>12.879071</td>\n",
              "      <td>3.070805e+11</td>\n",
              "      <td>9725.038462</td>\n",
              "      <td>1.833333</td>\n",
              "    </tr>\n",
              "  </tbody>\n",
              "</table>\n",
              "</div>"
            ],
            "text/plain": [
              "        country  sex  age  ...    gdpforyear  gdppercapita  generation\n",
              "year                       ...                                        \n",
              "1985  48.041667  0.5  2.5  ...  1.926471e+11   6091.229167    1.833333\n",
              "1986  50.354167  0.5  2.5  ...  2.302251e+11   7126.104167    1.833333\n",
              "1987  49.203704  0.5  2.5  ...  2.403856e+11   8712.592593    1.833333\n",
              "1988  47.877551  0.5  2.5  ...  2.985675e+11   9983.857143    1.833333\n",
              "1989  49.346154  0.5  2.5  ...  3.070805e+11   9725.038462    1.833333\n",
              "\n",
              "[5 rows x 9 columns]"
            ]
          },
          "metadata": {
            "tags": []
          },
          "execution_count": 15
        }
      ]
    },
    {
      "cell_type": "markdown",
      "metadata": {
        "id": "tWVXonBm7fDC",
        "colab_type": "text"
      },
      "source": [
        "Por las mismas razones que con el modelo anterior no tomamos en cuenta el país, el sexo y la edad."
      ]
    },
    {
      "cell_type": "code",
      "metadata": {
        "id": "E85UGElng44B",
        "colab_type": "code",
        "colab": {}
      },
      "source": [
        "#X = df[important.feature]\n",
        "X2 = df_g.drop(['suicides_no','country','sex','age'], axis=1)\n",
        "y2 = df_g.suicides_no"
      ],
      "execution_count": 0,
      "outputs": []
    },
    {
      "cell_type": "markdown",
      "metadata": {
        "id": "Dgdbx5wN8DAW",
        "colab_type": "text"
      },
      "source": [
        "A partir de aquí ya solo necesitamos continuar con la generación del modelo como lo hicimos hasta ahora."
      ]
    },
    {
      "cell_type": "code",
      "metadata": {
        "id": "_EFFMuv0g44F",
        "colab_type": "code",
        "colab": {}
      },
      "source": [
        "X_train_2, X_test_2, y_train_2, y_test_2 = train_test_split(X2, y2, test_size = 0.8, random_state = 42)"
      ],
      "execution_count": 0,
      "outputs": []
    },
    {
      "cell_type": "code",
      "metadata": {
        "id": "8L8sWGYeg44G",
        "colab_type": "code",
        "outputId": "8e8c8ae6-8fc2-4fcd-a61e-ed86d58aeafb",
        "colab": {
          "base_uri": "https://localhost:8080/",
          "height": 34
        }
      },
      "source": [
        "model_02 = linear_model.LinearRegression(normalize=True)\n",
        "model_02.fit(X_train_2.astype(\"int64\").values, y_train_2.astype(\"int64\"))"
      ],
      "execution_count": 18,
      "outputs": [
        {
          "output_type": "execute_result",
          "data": {
            "text/plain": [
              "LinearRegression(copy_X=True, fit_intercept=True, n_jobs=None, normalize=True)"
            ]
          },
          "metadata": {
            "tags": []
          },
          "execution_count": 18
        }
      ]
    },
    {
      "cell_type": "code",
      "metadata": {
        "id": "RxpZ9X2aybd1",
        "colab_type": "code",
        "colab": {}
      },
      "source": [
        "y_pred_2 = model_02.predict(X_test_2)"
      ],
      "execution_count": 0,
      "outputs": []
    },
    {
      "cell_type": "code",
      "metadata": {
        "id": "EmCpJzAv23nG",
        "colab_type": "code",
        "colab": {
          "base_uri": "https://localhost:8080/",
          "height": 265
        },
        "outputId": "636f47fe-7f8e-45e1-d384-0321de358347"
      },
      "source": [
        "A = y_test_2.to_numpy()\n",
        "C = y_pred_2\n",
        "l1, = plt.plot(A, 'b')\n",
        "l3, = plt.plot(C, 'r')\n",
        "plt.legend(['A', 'C'], loc='upper left')\n",
        "plt.show()"
      ],
      "execution_count": 20,
      "outputs": [
        {
          "output_type": "display_data",
          "data": {
            "image/png": "[encoded data removed]",
            "text/plain": [
              "<Figure size 432x288 with 1 Axes>"
            ]
          },
          "metadata": {
            "tags": [],
            "needs_background": "light"
          }
        }
      ]
    },
    {
      "cell_type": "code",
      "metadata": {
        "id": "pLc46wrxylPy",
        "colab_type": "code",
        "outputId": "d82c7aba-72d9-4d23-cfce-d79707ff58c2",
        "colab": {
          "base_uri": "https://localhost:8080/",
          "height": 204
        }
      },
      "source": [
        "compare = pd.DataFrame({'Actual': y_test_2.array.to_numpy().flatten(), 'Predicted': y_pred_2.flatten()})\n",
        "compare.head()"
      ],
      "execution_count": 21,
      "outputs": [
        {
          "output_type": "execute_result",
          "data": {
            "text/html": [
              "<div>\n",
              "<style scoped>\n",
              "    .dataframe tbody tr th:only-of-type {\n",
              "        vertical-align: middle;\n",
              "    }\n",
              "\n",
              "    .dataframe tbody tr th {\n",
              "        vertical-align: top;\n",
              "    }\n",
              "\n",
              "    .dataframe thead th {\n",
              "        text-align: right;\n",
              "    }\n",
              "</style>\n",
              "<table border=\"1\" class=\"dataframe\">\n",
              "  <thead>\n",
              "    <tr style=\"text-align: right;\">\n",
              "      <th></th>\n",
              "      <th>Actual</th>\n",
              "      <th>Predicted</th>\n",
              "    </tr>\n",
              "  </thead>\n",
              "  <tbody>\n",
              "    <tr>\n",
              "      <th>0</th>\n",
              "      <td>238.230769</td>\n",
              "      <td>244.369615</td>\n",
              "    </tr>\n",
              "    <tr>\n",
              "      <th>1</th>\n",
              "      <td>247.899225</td>\n",
              "      <td>263.083787</td>\n",
              "    </tr>\n",
              "    <tr>\n",
              "      <th>2</th>\n",
              "      <td>227.984082</td>\n",
              "      <td>252.551849</td>\n",
              "    </tr>\n",
              "    <tr>\n",
              "      <th>3</th>\n",
              "      <td>248.154070</td>\n",
              "      <td>317.031889</td>\n",
              "    </tr>\n",
              "    <tr>\n",
              "      <th>4</th>\n",
              "      <td>284.057692</td>\n",
              "      <td>280.108623</td>\n",
              "    </tr>\n",
              "  </tbody>\n",
              "</table>\n",
              "</div>"
            ],
            "text/plain": [
              "       Actual   Predicted\n",
              "0  238.230769  244.369615\n",
              "1  247.899225  263.083787\n",
              "2  227.984082  252.551849\n",
              "3  248.154070  317.031889\n",
              "4  284.057692  280.108623"
            ]
          },
          "metadata": {
            "tags": []
          },
          "execution_count": 21
        }
      ]
    },
    {
      "cell_type": "code",
      "metadata": {
        "id": "Z4DE-iEw8bNo",
        "colab_type": "code",
        "colab": {
          "base_uri": "https://localhost:8080/",
          "height": 34
        },
        "outputId": "b6b196d4-9ec7-474e-ed4d-a406230c4eb5"
      },
      "source": [
        "mean_squared_error(y_test_2.array.to_numpy().flatten(),y_pred_2.flatten())"
      ],
      "execution_count": 22,
      "outputs": [
        {
          "output_type": "execute_result",
          "data": {
            "text/plain": [
              "1459.9837951035597"
            ]
          },
          "metadata": {
            "tags": []
          },
          "execution_count": 22
        }
      ]
    },
    {
      "cell_type": "markdown",
      "metadata": {
        "id": "4_BGieCU8k-o",
        "colab_type": "text"
      },
      "source": [
        "El error es mayor, pero gráficamente podemos ver algo bastante aceptable, el aumento del error podemos adjudicarlo tanto a un aumento en las dimensiones de los resultados como el hecho de que es un modelo más general."
      ]
    },
    {
      "cell_type": "markdown",
      "metadata": {
        "id": "UScFQ-u5hDZE",
        "colab_type": "text"
      },
      "source": [
        "# Comparación de modelos"
      ]
    },
    {
      "cell_type": "markdown",
      "metadata": {
        "id": "bZfSd877O0dK",
        "colab_type": "text"
      },
      "source": [
        "Aquí con los modelos ya generados procedemos a hacer una validación intercambiando ambos test para observar los resultados."
      ]
    },
    {
      "cell_type": "code",
      "metadata": {
        "id": "biKac1VrhHWv",
        "colab_type": "code",
        "colab": {}
      },
      "source": [
        "pred_mod_1 = model_01.predict(X_test)\n",
        "pred_mod_2 = model_02.predict(X_test)"
      ],
      "execution_count": 0,
      "outputs": []
    },
    {
      "cell_type": "code",
      "metadata": {
        "id": "ziVvjhI0jhrW",
        "colab_type": "code",
        "outputId": "7ac63e3f-eb1b-409e-be9a-401a969e235c",
        "colab": {
          "base_uri": "https://localhost:8080/",
          "height": 265
        }
      },
      "source": [
        "A = pred_mod_1\n",
        "B = pred_mod_2\n",
        "C = y_test.array.to_numpy().flatten()\n",
        "l1, = plt.plot(A, 'b')\n",
        "l2, = plt.plot(B, 'r')\n",
        "l3, = plt.plot(C, 'g')\n",
        "plt.legend(['Modelo 1', 'Modelo 2', 'Original'], loc='upper left')\n",
        "plt.show()"
      ],
      "execution_count": 24,
      "outputs": [
        {
          "output_type": "display_data",
          "data": {
            "image/png": "[encoded data removed]",
            "text/plain": [
              "<Figure size 432x288 with 1 Axes>"
            ]
          },
          "metadata": {
            "tags": [],
            "needs_background": "light"
          }
        }
      ]
    },
    {
      "cell_type": "code",
      "metadata": {
        "id": "tPmX1Ih82c7K",
        "colab_type": "code",
        "colab": {
          "base_uri": "https://localhost:8080/",
          "height": 265
        },
        "outputId": "c9fbb649-5aed-4d78-c81e-108b2ef74eb1"
      },
      "source": [
        "A = pred_mod_1\n",
        "C = y_test.array.to_numpy().flatten()\n",
        "l1, = plt.plot(A, 'b')\n",
        "l3, = plt.plot(C, 'g')\n",
        "plt.legend(['A', 'C'], loc='upper left')\n",
        "plt.show()"
      ],
      "execution_count": 25,
      "outputs": [
        {
          "output_type": "display_data",
          "data": {
            "image/png": "[encoded data removed]",
            "text/plain": [
              "<Figure size 432x288 with 1 Axes>"
            ]
          },
          "metadata": {
            "tags": [],
            "needs_background": "light"
          }
        }
      ]
    },
    {
      "cell_type": "code",
      "metadata": {
        "id": "H9cLLxYlj7W7",
        "colab_type": "code",
        "outputId": "565e4776-e7a0-41f8-8cb8-90af3ddfe016",
        "colab": {
          "base_uri": "https://localhost:8080/",
          "height": 204
        }
      },
      "source": [
        "compare = pd.DataFrame({'Actual': y_test.array.to_numpy().flatten(), 'Modelo1': pred_mod_1.flatten(), 'Modelo2': pred_mod_2.flatten()})\n",
        "compare.head()"
      ],
      "execution_count": 26,
      "outputs": [
        {
          "output_type": "execute_result",
          "data": {
            "text/html": [
              "<div>\n",
              "<style scoped>\n",
              "    .dataframe tbody tr th:only-of-type {\n",
              "        vertical-align: middle;\n",
              "    }\n",
              "\n",
              "    .dataframe tbody tr th {\n",
              "        vertical-align: top;\n",
              "    }\n",
              "\n",
              "    .dataframe thead th {\n",
              "        text-align: right;\n",
              "    }\n",
              "</style>\n",
              "<table border=\"1\" class=\"dataframe\">\n",
              "  <thead>\n",
              "    <tr style=\"text-align: right;\">\n",
              "      <th></th>\n",
              "      <th>Actual</th>\n",
              "      <th>Modelo1</th>\n",
              "      <th>Modelo2</th>\n",
              "    </tr>\n",
              "  </thead>\n",
              "  <tbody>\n",
              "    <tr>\n",
              "      <th>0</th>\n",
              "      <td>6.083333</td>\n",
              "      <td>5.610257</td>\n",
              "      <td>-383.698500</td>\n",
              "    </tr>\n",
              "    <tr>\n",
              "      <th>1</th>\n",
              "      <td>11.083333</td>\n",
              "      <td>11.944406</td>\n",
              "      <td>-225.401679</td>\n",
              "    </tr>\n",
              "    <tr>\n",
              "      <th>2</th>\n",
              "      <td>14.166667</td>\n",
              "      <td>13.330239</td>\n",
              "      <td>-248.140361</td>\n",
              "    </tr>\n",
              "    <tr>\n",
              "      <th>3</th>\n",
              "      <td>5.250000</td>\n",
              "      <td>5.863611</td>\n",
              "      <td>-381.378986</td>\n",
              "    </tr>\n",
              "    <tr>\n",
              "      <th>4</th>\n",
              "      <td>12.166667</td>\n",
              "      <td>13.146942</td>\n",
              "      <td>-212.473158</td>\n",
              "    </tr>\n",
              "  </tbody>\n",
              "</table>\n",
              "</div>"
            ],
            "text/plain": [
              "      Actual    Modelo1     Modelo2\n",
              "0   6.083333   5.610257 -383.698500\n",
              "1  11.083333  11.944406 -225.401679\n",
              "2  14.166667  13.330239 -248.140361\n",
              "3   5.250000   5.863611 -381.378986\n",
              "4  12.166667  13.146942 -212.473158"
            ]
          },
          "metadata": {
            "tags": []
          },
          "execution_count": 26
        }
      ]
    },
    {
      "cell_type": "markdown",
      "metadata": {
        "id": "U82iOQ4QopG4",
        "colab_type": "text"
      },
      "source": [
        "Errores"
      ]
    },
    {
      "cell_type": "code",
      "metadata": {
        "id": "lMG0_lk6oobL",
        "colab_type": "code",
        "outputId": "dacad9c1-7db2-4dc0-9345-37aecc3000be",
        "colab": {
          "base_uri": "https://localhost:8080/",
          "height": 51
        }
      },
      "source": [
        "expected = y_test.array.to_numpy().flatten()\n",
        "predictions1 = pred_mod_1.flatten()\n",
        "predictions2 = pred_mod_2.flatten()\n",
        "print('MSE: %d' % mean_squared_error(expected, predictions1) )\n",
        "print('MSE: %d' % mean_squared_error(expected, predictions2) )"
      ],
      "execution_count": 27,
      "outputs": [
        {
          "output_type": "stream",
          "text": [
            "MSE: 4\n",
            "MSE: 109425\n"
          ],
          "name": "stdout"
        }
      ]
    },
    {
      "cell_type": "markdown",
      "metadata": {
        "id": "G06IqVJG9zSo",
        "colab_type": "text"
      },
      "source": [
        "El resultado era algo previsible, como se trata del primer test era claro que el primer modelo iba a tener un mejor desempeño, pero a la vez es sorprendente lo lejos que quedo el segundo modelo del estimado haciendo que prácticamente el uso de este segundo modelo resulte inviable."
      ]
    },
    {
      "cell_type": "markdown",
      "metadata": {
        "id": "1I7xXqog9hql",
        "colab_type": "text"
      },
      "source": [
        "Segundo test"
      ]
    },
    {
      "cell_type": "code",
      "metadata": {
        "id": "vSeSHvMdoPJu",
        "colab_type": "code",
        "colab": {}
      },
      "source": [
        "pred_mod_1 = model_01.predict(X_test_2)\n",
        "pred_mod_2 = model_02.predict(X_test_2)"
      ],
      "execution_count": 0,
      "outputs": []
    },
    {
      "cell_type": "code",
      "metadata": {
        "id": "ENRa2zXwoQqs",
        "colab_type": "code",
        "colab": {
          "base_uri": "https://localhost:8080/",
          "height": 265
        },
        "outputId": "5ae04142-0279-48e4-fa39-f7e02f6c1570"
      },
      "source": [
        "A = pred_mod_1\n",
        "B = pred_mod_2\n",
        "C = y_test_2.array.to_numpy().flatten()\n",
        "l1, = plt.plot(A, 'b')\n",
        "l2, = plt.plot(B, 'r')\n",
        "l3, = plt.plot(C, 'g')\n",
        "plt.legend(['Modelo 1', 'Modelo 2', 'Original'], loc='upper left')\n",
        "plt.show()"
      ],
      "execution_count": 29,
      "outputs": [
        {
          "output_type": "display_data",
          "data": {
            "image/png": "[encoded data removed]",
            "text/plain": [
              "<Figure size 432x288 with 1 Axes>"
            ]
          },
          "metadata": {
            "tags": [],
            "needs_background": "light"
          }
        }
      ]
    },
    {
      "cell_type": "code",
      "metadata": {
        "id": "hG1MUntHoRxL",
        "colab_type": "code",
        "colab": {
          "base_uri": "https://localhost:8080/",
          "height": 204
        },
        "outputId": "fd7b1e1a-389e-4b9e-be37-565134c3a461"
      },
      "source": [
        "compare = pd.DataFrame({'Actual': y_test_2.array.to_numpy().flatten(), 'Modelo1': pred_mod_1.flatten(), 'Modelo2': pred_mod_2.flatten()})\n",
        "compare.head()"
      ],
      "execution_count": 30,
      "outputs": [
        {
          "output_type": "execute_result",
          "data": {
            "text/html": [
              "<div>\n",
              "<style scoped>\n",
              "    .dataframe tbody tr th:only-of-type {\n",
              "        vertical-align: middle;\n",
              "    }\n",
              "\n",
              "    .dataframe tbody tr th {\n",
              "        vertical-align: top;\n",
              "    }\n",
              "\n",
              "    .dataframe thead th {\n",
              "        text-align: right;\n",
              "    }\n",
              "</style>\n",
              "<table border=\"1\" class=\"dataframe\">\n",
              "  <thead>\n",
              "    <tr style=\"text-align: right;\">\n",
              "      <th></th>\n",
              "      <th>Actual</th>\n",
              "      <th>Modelo1</th>\n",
              "      <th>Modelo2</th>\n",
              "    </tr>\n",
              "  </thead>\n",
              "  <tbody>\n",
              "    <tr>\n",
              "      <th>0</th>\n",
              "      <td>238.230769</td>\n",
              "      <td>181.500076</td>\n",
              "      <td>244.369615</td>\n",
              "    </tr>\n",
              "    <tr>\n",
              "      <th>1</th>\n",
              "      <td>247.899225</td>\n",
              "      <td>126.766530</td>\n",
              "      <td>263.083787</td>\n",
              "    </tr>\n",
              "    <tr>\n",
              "      <th>2</th>\n",
              "      <td>227.984082</td>\n",
              "      <td>153.816733</td>\n",
              "      <td>252.551849</td>\n",
              "    </tr>\n",
              "    <tr>\n",
              "      <th>3</th>\n",
              "      <td>248.154070</td>\n",
              "      <td>129.197499</td>\n",
              "      <td>317.031889</td>\n",
              "    </tr>\n",
              "    <tr>\n",
              "      <th>4</th>\n",
              "      <td>284.057692</td>\n",
              "      <td>135.023651</td>\n",
              "      <td>280.108623</td>\n",
              "    </tr>\n",
              "  </tbody>\n",
              "</table>\n",
              "</div>"
            ],
            "text/plain": [
              "       Actual     Modelo1     Modelo2\n",
              "0  238.230769  181.500076  244.369615\n",
              "1  247.899225  126.766530  263.083787\n",
              "2  227.984082  153.816733  252.551849\n",
              "3  248.154070  129.197499  317.031889\n",
              "4  284.057692  135.023651  280.108623"
            ]
          },
          "metadata": {
            "tags": []
          },
          "execution_count": 30
        }
      ]
    },
    {
      "cell_type": "markdown",
      "metadata": {
        "id": "gfONJktWqHhK",
        "colab_type": "text"
      },
      "source": [
        "Error"
      ]
    },
    {
      "cell_type": "code",
      "metadata": {
        "id": "Tu4lh3TaqAt3",
        "colab_type": "code",
        "colab": {
          "base_uri": "https://localhost:8080/",
          "height": 51
        },
        "outputId": "db385ef9-16b5-4a75-bb60-cfbf86b19299"
      },
      "source": [
        "expected = y_test_2.array.to_numpy().flatten()\n",
        "predictions1 = pred_mod_1.flatten()\n",
        "predictions2 = pred_mod_2.flatten()\n",
        "print('MSE: %d' % mean_squared_error(expected, predictions1) )\n",
        "print('MSE: %d' % mean_squared_error(expected, predictions2) )"
      ],
      "execution_count": 31,
      "outputs": [
        {
          "output_type": "stream",
          "text": [
            "MSE: 10303\n",
            "MSE: 1459\n"
          ],
          "name": "stdout"
        }
      ]
    },
    {
      "cell_type": "markdown",
      "metadata": {
        "id": "U6Sr7P1i_J-g",
        "colab_type": "text"
      },
      "source": [
        "De igual manera el resultado es esperable pero algo más significativo, obviamente el segundo modelo con su test propio iba a resultar mejor, pero a diferencia del ejemplo anterior gráficamente se ven mucho más cercanos los resultados por lo que podemos decir que el primer modelo con los datos únicos resulta bastante más útil, si solo pudiéramos elegir uno, pero aún queda una prueba y será la aproximación de los datos de México con nuestros modelos generados."
      ]
    },
    {
      "cell_type": "code",
      "metadata": {
        "id": "cNtDCskV_0ww",
        "colab_type": "code",
        "colab": {}
      },
      "source": [
        "df_58 = df[df.country == 58].copy()\n",
        "df_58_g = df_58.groupby(['year']).mean()\n",
        "X_58 = df_58_g.drop(['suicides_no','country','sex','age'], axis=1)\n",
        "y_58 = df_58_g.suicides_no\n",
        "X_train_58, X_test_58, y_train_58, y_test_58 = train_test_split(X_58, y_58, test_size = 0.8, random_state = 42)\n"
      ],
      "execution_count": 0,
      "outputs": []
    },
    {
      "cell_type": "code",
      "metadata": {
        "id": "Q270bUTmAK_-",
        "colab_type": "code",
        "colab": {
          "base_uri": "https://localhost:8080/",
          "height": 265
        },
        "outputId": "fef67106-e6e5-4ab8-885b-62f703d50074"
      },
      "source": [
        "pred_mod_1_58 = model_01.predict(X_test_58)\n",
        "pred_mod_2_58 = model_02.predict(X_test_58)\n",
        "\n",
        "A = pred_mod_1_58\n",
        "B = pred_mod_2_58\n",
        "C = y_test_58.array.to_numpy().flatten()\n",
        "l1, = plt.plot(A, 'b')\n",
        "l2, = plt.plot(B, 'r')\n",
        "l3, = plt.plot(C, 'g')\n",
        "plt.legend(['Modelo 1', 'Modelo 2', 'Original'], loc='upper left')\n",
        "plt.show()"
      ],
      "execution_count": 42,
      "outputs": [
        {
          "output_type": "display_data",
          "data": {
            "image/png": "[encoded data removed]",
            "text/plain": [
              "<Figure size 432x288 with 1 Axes>"
            ]
          },
          "metadata": {
            "tags": [],
            "needs_background": "light"
          }
        }
      ]
    },
    {
      "cell_type": "code",
      "metadata": {
        "id": "GUD3EnAiApyo",
        "colab_type": "code",
        "colab": {
          "base_uri": "https://localhost:8080/",
          "height": 51
        },
        "outputId": "d72d1b88-e4e6-47bc-d7de-dba8c8b2cd62"
      },
      "source": [
        "expected = y_test_100.array.to_numpy().flatten()\n",
        "predictions1 = pred_mod_1_100.flatten()\n",
        "predictions2 = pred_mod_2_100.flatten()\n",
        "print('MSE: %d' % mean_squared_error(expected, predictions1) )\n",
        "print('MSE: %d' % mean_squared_error(expected, predictions2) )"
      ],
      "execution_count": 43,
      "outputs": [
        {
          "output_type": "stream",
          "text": [
            "MSE: 2652\n",
            "MSE: 5921\n"
          ],
          "name": "stdout"
        }
      ]
    },
    {
      "cell_type": "markdown",
      "metadata": {
        "id": "2OtPqx5CAjnN",
        "colab_type": "text"
      },
      "source": [
        "Para este caso particular el modelo 1 tiene un mejor ajuste, pero aun así cuenta con una diferencia algo importante, pero la gráfica nos da un resultado bastante esperanzador, ya que el resultado del modelo es muy similar lo cual esperábamos conseguir solo que no con el modelo general, si no que con uno particular."
      ]
    }
  ]
}